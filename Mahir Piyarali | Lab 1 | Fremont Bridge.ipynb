{
 "cells": [
  {
   "cell_type": "markdown",
   "metadata": {},
   "source": [
    "# Statistical Analysis of Fremont Bridge Crossings, Mahir Piyarali"
   ]
  },
  {
   "cell_type": "markdown",
   "metadata": {},
   "source": [
    "## Introduction"
   ]
  },
  {
   "cell_type": "markdown",
   "metadata": {},
   "source": [
    "This project will find the answer to the question \"What is the best day to cross the Fremont Bridge?\" For the purpose of this project as well as consistency, I will be defining the \"best\" day to cross as the day where traffic is lowest. I choose this because when traffic is lower, in theory it should be easier to cross as there are less people in the way, and therefore, is the best day to cross.\n",
    "\n",
    "Fremont Bridge crossings data comes from the Seattle Government."
   ]
  },
  {
   "cell_type": "markdown",
   "metadata": {
    "collapsed": true
   },
   "source": [
    "### Analysis 1"
   ]
  },
  {
   "cell_type": "markdown",
   "metadata": {},
   "source": [
    "###### Looking at the total amount of crossings per day in the given time frame, to see which had the least amount of total traffic, therefore is the best day to cross"
   ]
  },
  {
   "cell_type": "markdown",
   "metadata": {},
   "source": [
    "#### Dataset Preparation"
   ]
  },
  {
   "cell_type": "markdown",
   "metadata": {},
   "source": [
    "I chose to prepare the data by importing it, and then creating two separate lists. One list for eastbound traffic, and one for west. The dataset is strong as it covers almost 4 years worth of daily crossings. This means that there is lots of data, and that biases should be low."
   ]
  },
  {
   "cell_type": "code",
   "execution_count": 56,
   "metadata": {
    "collapsed": true
   },
   "outputs": [],
   "source": [
    "#the following code imports the dataset into the code\n",
    "bridge_file = open(\"FreBridgeLab/FreBridge2.csv\") \n",
    "bridge_data = []\n",
    "for ii in bridge_file:\n",
    "    bridge_data.append(ii);\n",
    "bridge_file.close()\n",
    "del(bridge_data[0]);\n",
    "#the following code appends the data into seperate lists for westbound and eastbound traffic\n",
    "west = []; \n",
    "east = [];\n",
    "for jj in range(len(bridge_data)):\n",
    "    bridge_data[jj] = bridge_data[jj].split(\",\");\n",
    "    west.append(int(bridge_data[jj][1]));\n",
    "    east.append(int(bridge_data[jj][2]));"
   ]
  },
  {
   "cell_type": "markdown",
   "metadata": {},
   "source": [
    "#### Data Modeling"
   ]
  },
  {
   "cell_type": "markdown",
   "metadata": {},
   "source": [
    "Simply uses addition/total sums to model the data"
   ]
  },
  {
   "cell_type": "code",
   "execution_count": 57,
   "metadata": {},
   "outputs": [
    {
     "name": "stdout",
     "output_type": "stream",
     "text": [
      "The total amount of traffic to cross the Fremont Bridge (both east and west) is [680343, 685681, 656557, 503223, 454676, 491852, 506607]\n",
      "By the metric of simply looking at all of the traffic to cross the bridge in the timeframe, it appears as if Friday is the best day to cross, because in the timeframe it had the least amount of crossings, with 454676 crossings\n"
     ]
    }
   ],
   "source": [
    "#the following code appends the westbound traffic into lists based on the day of the week\n",
    "#the dataset provided has the first date (10/3/2012) as a wednesday. this is taken into consideration when creating the lists for each day of the week\n",
    "monW = west[5::7] #the list \"monW\" is a list of daily traffic for each monday westbound\n",
    "tueW = west[6::7] #the list \"tueW\" \" \" \" \" \" \" \" \" tuesday \"\n",
    "wedW = west[0::7] #and so on...\n",
    "thuW = west[1::7]\n",
    "friW = west[2::7]\n",
    "satW = west[3::7]\n",
    "sunW = west[4::7]\n",
    "#the following code adds together the sum of the traffic across all of the days into a single sum\n",
    "monWsum = sum(monW) #represents all of the traffic that crossed the bridge westbound on monday\n",
    "tueWsum = sum(tueW) # \" \" \" \" \" \" \" \" \" \" \" tuesday\n",
    "wedWsum = sum(wedW) #and so on...\n",
    "thuWsum = sum(thuW)\n",
    "friWsum = sum(friW)\n",
    "satWsum = sum(satW)\n",
    "sunWsum = sum(sunW)\n",
    "#the following code does the same to the eastbound data\n",
    "monE = east[0::7]\n",
    "tueE = east[1::7]\n",
    "wedE = east[2::7]\n",
    "thuE = east[3::7]\n",
    "friE = east[4::7]\n",
    "satE = east[5::7]\n",
    "sunE = east[6::7]\n",
    "monEsum = sum(monE)\n",
    "tueEsum = sum(tueE)\n",
    "wedEsum = sum(wedE)\n",
    "thuEsum = sum(thuE)\n",
    "friEsum = sum(friE)\n",
    "satEsum = sum(satE)\n",
    "sunEsum = sum(sunE)\n",
    "#the following code creates TOTAL sums (both east and west) for each day of the week\n",
    "totalMon = (monWsum + monEsum) #represents ALL of the traffic (both west and east) that crossed the bridge on monday within the time frame of data collection\n",
    "totalTue = (tueWsum + tueEsum)\n",
    "totalWed = (wedWsum + wedEsum)\n",
    "totalThu = (thuWsum + thuEsum)\n",
    "totalFri = (friWsum + friEsum)\n",
    "totalSat = (satWsum + satEsum)\n",
    "totalSun = (sunWsum + sunEsum)\n",
    "#the following code then creates a list called \"totalWk\" within which each variable is the total amount of traffic to cross the bridge on a given day of the week within the timeframe of the data\n",
    "totalWk = [totalMon,totalTue,totalWed,totalThu,totalFri,totalSat,totalSun]\n",
    "print(\"The total amount of traffic to cross the Fremont Bridge (both east and west) is\", totalWk)\n",
    "print(\"By the metric of simply looking at all of the traffic to cross the bridge in the timeframe, it appears as if Friday is the best day to cross, because in the timeframe it had the least amount of crossings, with\", min(totalWk), \"crossings\")"
   ]
  },
  {
   "cell_type": "markdown",
   "metadata": {
    "collapsed": true
   },
   "source": [
    "### Analysis 2"
   ]
  },
  {
   "cell_type": "markdown",
   "metadata": {
    "collapsed": true
   },
   "source": [
    "###### Comparing the average amount of traffic per day of the week , to see which day (in a given direction) had the least amount of traffic and is therefore the best day to cross (in that given direction)"
   ]
  },
  {
   "cell_type": "markdown",
   "metadata": {},
   "source": [
    "#### Dataset Preparation"
   ]
  },
  {
   "cell_type": "markdown",
   "metadata": {},
   "source": [
    "I chose to prepare the data by importing it, and then creating two separate lists. One list for eastbound traffic, and one for west. The dataset is strong as it covers almost 4 years worth of daily crossings. This means that there is lots of data, and that biases should be low."
   ]
  },
  {
   "cell_type": "code",
   "execution_count": 58,
   "metadata": {
    "collapsed": true
   },
   "outputs": [],
   "source": [
    "#the following code imports the dataset into the code, is copy and pasted from above\n",
    "bridge_file = open(\"FreBridgeLab/FreBridge2.csv\")\n",
    "bridge_data = []\n",
    "for ii in bridge_file:\n",
    "    bridge_data.append(ii);\n",
    "bridge_file.close()\n",
    "del(bridge_data[0]);\n",
    "#the following code appends the data into separate lists for eastbound and westbound \n",
    "west = [];\n",
    "east = [];\n",
    "for jj in range(len(bridge_data)):\n",
    "    bridge_data[jj] = bridge_data[jj].split(\",\");\n",
    "    west.append(int(bridge_data[jj][1]));\n",
    "    east.append(int(bridge_data[jj][2]));"
   ]
  },
  {
   "cell_type": "markdown",
   "metadata": {},
   "source": [
    "#### Data Modeling"
   ]
  },
  {
   "cell_type": "markdown",
   "metadata": {},
   "source": [
    "Dataset is modeled by using averages, total sums, and lengths to determine the best day to cross"
   ]
  },
  {
   "cell_type": "code",
   "execution_count": 59,
   "metadata": {},
   "outputs": [
    {
     "name": "stdout",
     "output_type": "stream",
     "text": [
      "The average amount of traffic to cross the bridge westbound by day of the week is [1698, 1831, 1834, 1749, 1557, 878, 849]\n",
      "By looking at the average amount of westbound traffic per day of the week, it looks like Sunday is the best day to cross when headed westbound, as it had the lowest amount of average westbound crossings with a total of 849\n",
      "The average amount of traffic to cross the bridge westbound by day of the week is [1533, 1634, 1629, 1531, 1375, 717, 672]\n",
      "By looking at the average amount of westbound traffic per day of the week, it looks like Sunday is the best day to cross when headed westbound, as it had the lowest amount of average westbound crossings with a total of 672\n"
     ]
    }
   ],
   "source": [
    "#the following code appends the westbound traffic into lists based on the day of the week\n",
    "#an important note is that the dataset's first date (10/3/2012) was a wednesday. this is taken into consideration when appending data into separate lists.\n",
    "mW = west[5::7] #the list \"monW\" is a list of daily traffic for each monday westbound\n",
    "tuW = west[6::7] #the list \"tueW\" \" \" \" \" \" \" \" \" tuesday \"\n",
    "wW = west[0::7] #and so on...\n",
    "thW = west[1::7]\n",
    "fW = west[2::7]\n",
    "saW = west[3::7]\n",
    "suW = west[4::7]\n",
    "#the following code creates new variables to hold the amount of each day of the week there are in the dataset\n",
    "#example: there are 8 mondays in the dataset (this could be wrong, just an example!!!)\n",
    "#these lengths will be used to calculate the averages\n",
    "lmW = len(mW)\n",
    "ltuW = len(tuW)\n",
    "lwW = len(wW)\n",
    "lthW = len(thW)\n",
    "lfW = len(fW)\n",
    "lsaW = len(saW)\n",
    "lsuW = len(suW)\n",
    "#the following code then creates new varables to hold the TOTAl amount of crossings for each day of the week\n",
    "#example: in total, there were 18273 westbound crossings on mondays (this could be wrong, just an example!!!)\n",
    "#these sums will be used to calculate the averages\n",
    "mWsum = sum(mW)\n",
    "tuWsum = sum(tuW) \n",
    "wWsum = sum(wW)\n",
    "thWsum = sum(thW)\n",
    "fWsum = sum(fW)\n",
    "saWsum = sum(saW)\n",
    "suWsum = sum(suW) \n",
    "#the following code then creates new variables to hold the AVERAGE amount of crossings for any given day of the week\n",
    "#example: on average, there are 1928 westbound crossings on Monday (this could be wrong, just an example!!!)\n",
    "avmW = round((mWsum)/(lmW)) #the \"round\" part of this code makes it so that the code rounds off the average to a whole number\n",
    "avtuW = round((tuWsum)/(ltuW))\n",
    "avwW = round((wWsum)/(lwW))\n",
    "avthW = round((thWsum)/lthW)\n",
    "avfW = round((fWsum)/lfW)\n",
    "avsaW = round((saWsum)/lsaW)\n",
    "avsuW = round((suWsum)/lsuW)\n",
    "#the following code then creates a list of all of the averages for the westbound traffic by day of the week\n",
    "westAvgs = [avmW,avtuW,avwW,avthW,avfW,avsaW,avsuW]\n",
    "print(\"The average amount of traffic to cross the bridge westbound by day of the week is\", westAvgs)\n",
    "print(\"By looking at the average amount of westbound traffic per day of the week, it looks like Sunday is the best day to cross when headed westbound, as it had the lowest amount of average westbound crossings with a total of\", min(westAvgs))\n",
    "#the following code does the same to the eastbound data\n",
    "mE = east[5::7]\n",
    "tuE = east[6::7]\n",
    "wE = east[0::7]\n",
    "thE = east[1::7]\n",
    "fE = east[2::7]\n",
    "saE = east[3::7]\n",
    "suE = east[4::7]\n",
    "lmE = len(mE)\n",
    "ltuE = len(tuE)\n",
    "lwE = len(wE)\n",
    "lthE = len(thE)\n",
    "lfE = len(fE)\n",
    "lsaE = len(saE)\n",
    "lsuE = len(suE)\n",
    "mEsum = sum(mE)\n",
    "tuEsum = sum(tuE) \n",
    "wEsum = sum(wE)\n",
    "thEsum = sum(thE)\n",
    "fEsum = sum(fE)\n",
    "saEsum = sum(saE)\n",
    "suEsum = sum(suE) \n",
    "#the following code then creates new variables to hold the AVERAGE amount of crossings for any given day of the week\n",
    "#example: on average, there are 1928 westbound crossings on Monday (this could be wrong, just an example!!!)\n",
    "avmE = round((mEsum)/(lmE)) #the \"round\" part of this code makes it so that the code rounds off the average to a whole number\n",
    "avtuE = round((tuEsum)/(ltuE))\n",
    "avwE = round((wEsum)/(lwE))\n",
    "avthE = round((thEsum)/lthE)\n",
    "avfE = round((fEsum)/lfE)\n",
    "avsaE = round((saEsum)/lsaE)\n",
    "avsuE = round((suEsum)/lsuE)\n",
    "#the following code then creates a list of all of the averages for the westbound traffic by day of the week\n",
    "eastAvgs = [avmE,avtuE,avwE,avthE,avfE,avsaE,avsuE]\n",
    "print(\"The average amount of traffic to cross the bridge westbound by day of the week is\", eastAvgs)\n",
    "print(\"By looking at the average amount of westbound traffic per day of the week, it looks like Sunday is the best day to cross when headed westbound, as it had the lowest amount of average westbound crossings with a total of\", min(eastAvgs))\n"
   ]
  },
  {
   "cell_type": "markdown",
   "metadata": {},
   "source": [
    "## Final Results / Data Analysis"
   ]
  },
  {
   "cell_type": "markdown",
   "metadata": {
    "collapsed": true
   },
   "source": [
    "###### Breaking down Analysis 1\n",
    "Analysis 1 is simple, it simply adds all of the traffic on each day of the week together, and then uses that total amount of traffic to determine which day is the best day to cross. However, this is nowhere near specific enough to be useful. That's because though Friday may have the lowest number of total crossings (45476), it doesn't help determine if westbound or eastbound is better on a given day. It also doesn't take into account that perhaps everyone only goes eastbound on Friday. Therefore yes, going westbound would be best, and yes, the total amount of people crossing is low, but it fails is properly determining the best day to cross.\n"
   ]
  },
  {
   "cell_type": "markdown",
   "metadata": {},
   "source": [
    "###### Breaking down Analysis 2"
   ]
  },
  {
   "cell_type": "markdown",
   "metadata": {},
   "source": [
    "Analysis 2 is much much much more thorough in determining the best day to cross. It first looks at all of the westbound traffic, and breaks it up by each day. It then calculates the average amount of westbound traffic for a given day (average crossings on mondays headed west was 1698). The analysis then uses these averages to determine which day had the lowest amount of average crossings, and that was the metric used to determine the \"best\" day to cross the bridge headed westbound, which turned out to be Sunday, with a total of 849 westbound crossings on average. Coincidentally, Sunday was also the best day to cross headed east, with a total of 672 crossings on average. This actually makes some sense, as there are NFL games on Sundays, Church meets on Sundays, and generally speaking, Sunday is the laziest day of the week"
   ]
  },
  {
   "cell_type": "markdown",
   "metadata": {},
   "source": [
    "###### Remaining questions, things unanswered, additional conclusions"
   ]
  },
  {
   "cell_type": "markdown",
   "metadata": {},
   "source": [
    "Unfortunately, the dataset given doesn't account for days in which traffic could be exceptionally low. And when looking in the data, there for sure are some outliers. This could mean that by pure coincidence in a calendar year, all of the major holidays (Christmas, Thanksgiving, etc.) fell on a single day of the week, therefore biasing some of the results. \n",
    "\n",
    "What I also find interesting is that though Analysis 1 showed that Friday had the lowest amount of total overall crossings, it turns out that the daily averages show that for either westbound or eastbounf traffic, the best day of the week to cross is actually Sunday. I wonder why it turned out this way... perhaps the dataset had more fridays than it did sundays?"
   ]
  },
  {
   "cell_type": "markdown",
   "metadata": {},
   "source": [
    "### Best day to cross westbound: Sunday, Best day to cross eastbound: Sunday"
   ]
  }
 ],
 "metadata": {
  "kernelspec": {
   "display_name": "Python 3",
   "language": "python",
   "name": "python3"
  },
  "language_info": {
   "codemirror_mode": {
    "name": "ipython",
    "version": 3
   },
   "file_extension": ".py",
   "mimetype": "text/x-python",
   "name": "python",
   "nbconvert_exporter": "python",
   "pygments_lexer": "ipython3",
   "version": "3.6.1"
  }
 },
 "nbformat": 4,
 "nbformat_minor": 2
}
